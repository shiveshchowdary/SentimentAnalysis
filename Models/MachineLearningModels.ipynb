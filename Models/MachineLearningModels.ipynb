{
 "cells": [
  {
   "cell_type": "code",
   "execution_count": 1,
   "id": "e24e43b9",
   "metadata": {},
   "outputs": [],
   "source": [
    "file_path = '/Users/shiveshkodali/Desktop/GitProjects/SentimentAnalysis/'\n",
    "\n",
    "import numpy as np\n",
    "import pandas as pd\n",
    "from collections import Counter\n",
    "from sklearn.feature_extraction.text import CountVectorizer\n",
    "from sklearn.preprocessing import LabelEncoder\n",
    "from sklearn.model_selection import train_test_split\n",
    "from sklearn.metrics import accuracy_score, classification_report"
   ]
  },
  {
   "cell_type": "code",
   "execution_count": 2,
   "id": "75c35bdc",
   "metadata": {},
   "outputs": [],
   "source": [
    "data = pd.read_csv(file_path+'Data/train.tsv',sep='\\t')"
   ]
  },
  {
   "cell_type": "code",
   "execution_count": 3,
   "id": "d02d6256",
   "metadata": {},
   "outputs": [],
   "source": [
    "documents = list(data['Phrase'])\n",
    "labels = list(data['Sentiment'])"
   ]
  },
  {
   "cell_type": "code",
   "execution_count": 4,
   "id": "f8780e0b",
   "metadata": {},
   "outputs": [
    {
     "data": {
      "text/plain": [
       "['into that annoying specimen of humanity',\n",
       " 'Smokers Only',\n",
       " \"It 's not the worst comedy of the year , but it certainly wo n't win any honors .\",\n",
       " 'Wesley Snipes',\n",
       " 'stooping',\n",
       " 'Melodrama with a message',\n",
       " \", so it 's not a brilliant piece of filmmaking , but it is a funny -LRB- sometimes hilarious -RRB- comedy with a deft sense of humor about itself , a playful spirit and a game cast .\",\n",
       " 'his victories',\n",
       " 'two-dimensional characters',\n",
       " 'mention a convincing brogue']"
      ]
     },
     "execution_count": 4,
     "metadata": {},
     "output_type": "execute_result"
    }
   ],
   "source": [
    "list(data.sample(10)['Phrase'])\n",
    "#punctuations and special characters and numbers lowecasing"
   ]
  },
  {
   "cell_type": "code",
   "execution_count": 5,
   "id": "d8c9d8ca",
   "metadata": {},
   "outputs": [],
   "source": [
    "import string\n",
    "\n",
    "def remove_punctuation(text):\n",
    "    return ''.join(char for char in text if char not in string.punctuation)"
   ]
  },
  {
   "cell_type": "code",
   "execution_count": 6,
   "id": "7c4975a7",
   "metadata": {},
   "outputs": [
    {
     "name": "stderr",
     "output_type": "stream",
     "text": [
      "[nltk_data] Downloading package stopwords to\n",
      "[nltk_data]     /Users/shiveshkodali/nltk_data...\n",
      "[nltk_data]   Package stopwords is already up-to-date!\n"
     ]
    }
   ],
   "source": [
    "import nltk\n",
    "from nltk.corpus import stopwords\n",
    "\n",
    "nltk.download('stopwords')\n",
    "\n",
    "def remove_stopwords(text):\n",
    "    words = text.split()\n",
    "    stop_words = set(stopwords.words('english')) \n",
    "    filtered_words = [word for word in words if word.lower() not in stop_words]\n",
    "    cleaned_text = ' '.join(filtered_words)\n",
    "    return cleaned_text"
   ]
  },
  {
   "cell_type": "code",
   "execution_count": 7,
   "id": "250b7d30",
   "metadata": {},
   "outputs": [],
   "source": [
    "import re\n",
    "\n",
    "def remove_special_characters_and_numbers(text):\n",
    "    cleaned_text = re.sub(r'[^a-zA-Z\\s]', '', text)\n",
    "    return cleaned_text"
   ]
  },
  {
   "cell_type": "code",
   "execution_count": 8,
   "id": "8b23e991",
   "metadata": {},
   "outputs": [
    {
     "name": "stderr",
     "output_type": "stream",
     "text": [
      "[nltk_data] Downloading package punkt to\n",
      "[nltk_data]     /Users/shiveshkodali/nltk_data...\n",
      "[nltk_data]   Package punkt is already up-to-date!\n",
      "[nltk_data] Downloading package wordnet to\n",
      "[nltk_data]     /Users/shiveshkodali/nltk_data...\n",
      "[nltk_data]   Package wordnet is already up-to-date!\n"
     ]
    }
   ],
   "source": [
    "import nltk\n",
    "from nltk.stem import WordNetLemmatizer\n",
    "nltk.download('punkt')  # Download the Punkt tokenizer models\n",
    "nltk.download('wordnet')  # Download the WordNet lemmatizer data\n",
    "\n",
    "# Initialize a stemmer and a lemmatizer\n",
    "lemmatizer = WordNetLemmatizer()\n",
    "def lemmatize_text(text):\n",
    "    # Tokenize the text\n",
    "    words = nltk.word_tokenize(text)\n",
    "    \n",
    "    # Apply lemmatization to each word\n",
    "    lemmatized_words = [lemmatizer.lemmatize(word) for word in words]\n",
    "    \n",
    "    # Reconstruct the text with lemmatized words\n",
    "    lemmatized_text = ' '.join(lemmatized_words)\n",
    "    \n",
    "    return lemmatized_text"
   ]
  },
  {
   "cell_type": "code",
   "execution_count": 9,
   "id": "d1974c08",
   "metadata": {},
   "outputs": [
    {
     "name": "stdout",
     "output_type": "stream",
     "text": [
      "Requirement already satisfied: TextBlob in /Users/shiveshkodali/anaconda3/lib/python3.11/site-packages (0.17.1)\n",
      "Requirement already satisfied: nltk>=3.1 in /Users/shiveshkodali/anaconda3/lib/python3.11/site-packages (from TextBlob) (3.8.1)\n",
      "Requirement already satisfied: click in /Users/shiveshkodali/anaconda3/lib/python3.11/site-packages (from nltk>=3.1->TextBlob) (8.0.4)\n",
      "Requirement already satisfied: joblib in /Users/shiveshkodali/anaconda3/lib/python3.11/site-packages (from nltk>=3.1->TextBlob) (1.2.0)\n",
      "Requirement already satisfied: regex>=2021.8.3 in /Users/shiveshkodali/anaconda3/lib/python3.11/site-packages (from nltk>=3.1->TextBlob) (2022.7.9)\n",
      "Requirement already satisfied: tqdm in /Users/shiveshkodali/anaconda3/lib/python3.11/site-packages (from nltk>=3.1->TextBlob) (4.65.0)\n",
      "Requirement already satisfied: tqdm in /Users/shiveshkodali/anaconda3/lib/python3.11/site-packages (4.65.0)\n"
     ]
    }
   ],
   "source": [
    "!pip install TextBlob\n",
    "!pip install tqdm"
   ]
  },
  {
   "cell_type": "code",
   "execution_count": 10,
   "id": "bc376122",
   "metadata": {},
   "outputs": [],
   "source": [
    "from tqdm import tqdm"
   ]
  },
  {
   "cell_type": "code",
   "execution_count": 11,
   "id": "b8256f28",
   "metadata": {},
   "outputs": [
    {
     "name": "stderr",
     "output_type": "stream",
     "text": [
      "100%|███████████████████████████████| 156060/156060 [00:00<00:00, 629230.88it/s]\n"
     ]
    }
   ],
   "source": [
    "documents = [remove_punctuation(text) for text in tqdm(documents)]"
   ]
  },
  {
   "cell_type": "code",
   "execution_count": 12,
   "id": "0ce5adc4",
   "metadata": {},
   "outputs": [
    {
     "name": "stderr",
     "output_type": "stream",
     "text": [
      "100%|████████████████████████████████| 156060/156060 [00:05<00:00, 28396.95it/s]\n"
     ]
    }
   ],
   "source": [
    "documents = [remove_stopwords(text) for text in tqdm(documents)]"
   ]
  },
  {
   "cell_type": "code",
   "execution_count": 13,
   "id": "4e3dadac",
   "metadata": {},
   "outputs": [
    {
     "name": "stderr",
     "output_type": "stream",
     "text": [
      "100%|██████████████████████████████| 156060/156060 [00:00<00:00, 2253043.06it/s]\n"
     ]
    }
   ],
   "source": [
    "documents = [remove_special_characters_and_numbers(text) for text in tqdm(documents)]"
   ]
  },
  {
   "cell_type": "code",
   "execution_count": 14,
   "id": "aaa098a4",
   "metadata": {},
   "outputs": [
    {
     "name": "stderr",
     "output_type": "stream",
     "text": [
      "100%|████████████████████████████████| 156060/156060 [00:04<00:00, 33347.78it/s]\n"
     ]
    }
   ],
   "source": [
    "documents = [lemmatize_text(text) for text in tqdm(documents)]"
   ]
  },
  {
   "cell_type": "code",
   "execution_count": 15,
   "id": "b1bc787e",
   "metadata": {},
   "outputs": [],
   "source": [
    "data_dict = {documents[i]:labels[i] for i in range(len(documents)) if documents[i]!=''}"
   ]
  },
  {
   "cell_type": "code",
   "execution_count": 16,
   "id": "2db7687b",
   "metadata": {},
   "outputs": [],
   "source": [
    "documents = data_dict.keys()\n",
    "labels = data_dict.values()"
   ]
  },
  {
   "cell_type": "code",
   "execution_count": 17,
   "id": "355c0035",
   "metadata": {},
   "outputs": [],
   "source": [
    "vectorizer = CountVectorizer()\n",
    "X = vectorizer.fit_transform(documents)"
   ]
  },
  {
   "cell_type": "code",
   "execution_count": 18,
   "id": "f68e1e21",
   "metadata": {},
   "outputs": [],
   "source": [
    "label_encoder = LabelEncoder()\n",
    "y = label_encoder.fit_transform(list(labels))"
   ]
  },
  {
   "cell_type": "code",
   "execution_count": 19,
   "id": "e73ffb3e",
   "metadata": {},
   "outputs": [],
   "source": [
    "X_train, X_test, y_train, y_test = train_test_split(X, y, test_size=0.2, random_state=42)"
   ]
  },
  {
   "cell_type": "code",
   "execution_count": 20,
   "id": "de77ae15",
   "metadata": {},
   "outputs": [
    {
     "data": {
      "text/plain": [
       "(66728, 14987)"
      ]
     },
     "execution_count": 20,
     "metadata": {},
     "output_type": "execute_result"
    }
   ],
   "source": [
    "X_train.shape"
   ]
  },
  {
   "cell_type": "code",
   "execution_count": 21,
   "id": "d30ac603",
   "metadata": {},
   "outputs": [
    {
     "data": {
      "text/plain": [
       "(16683, 14987)"
      ]
     },
     "execution_count": 21,
     "metadata": {},
     "output_type": "execute_result"
    }
   ],
   "source": [
    "X_test.shape"
   ]
  },
  {
   "cell_type": "code",
   "execution_count": 22,
   "id": "cfae9c6b",
   "metadata": {},
   "outputs": [
    {
     "data": {
      "text/plain": [
       "(66728,)"
      ]
     },
     "execution_count": 22,
     "metadata": {},
     "output_type": "execute_result"
    }
   ],
   "source": [
    "y_train.shape"
   ]
  },
  {
   "cell_type": "code",
   "execution_count": 23,
   "id": "f851cb1b",
   "metadata": {},
   "outputs": [
    {
     "data": {
      "text/plain": [
       "(16683,)"
      ]
     },
     "execution_count": 23,
     "metadata": {},
     "output_type": "execute_result"
    }
   ],
   "source": [
    "y_test.shape"
   ]
  },
  {
   "cell_type": "code",
   "execution_count": 24,
   "id": "6377ac96",
   "metadata": {},
   "outputs": [],
   "source": [
    "from sklearn.linear_model import LogisticRegression\n",
    "from sklearn.tree import DecisionTreeClassifier\n",
    "from sklearn.naive_bayes import MultinomialNB\n",
    "\n",
    "\n",
    "# Create and train different machine learning models\n",
    "models = {\n",
    "    \"Logistic Regression\": LogisticRegression(solver='lbfgs', max_iter=1000),\n",
    "    \"Decision Tree\": DecisionTreeClassifier(),\n",
    "    \"Naive Bayes\" : MultinomialNB()\n",
    "}\n",
    "\n",
    "def sentiment_analysis(model_name):\n",
    "    model = models[model_name]\n",
    "    model.fit(X_train, y_train)\n",
    "    y_pred = model.predict(X_test)\n",
    "    \n",
    "    # Evaluate the model\n",
    "    accuracy = accuracy_score(y_test, y_pred)\n",
    "    report = classification_report(y_test, y_pred)\n",
    "    \n",
    "    # Display results\n",
    "    print(f\"Model: {model_name}\")\n",
    "    print(f\"Accuracy: {accuracy:.2f}\\n\")\n",
    "    print(report)\n",
    "    print(\"=\" * 50)\n",
    "    return"
   ]
  },
  {
   "cell_type": "code",
   "execution_count": 25,
   "id": "fe67c0c3",
   "metadata": {},
   "outputs": [
    {
     "name": "stdout",
     "output_type": "stream",
     "text": [
      "Model: Logistic Regression\n",
      "Accuracy: 0.62\n",
      "\n",
      "              precision    recall  f1-score   support\n",
      "\n",
      "           0       0.51      0.25      0.34       749\n",
      "           1       0.52      0.35      0.42      2921\n",
      "           2       0.66      0.86      0.75      8401\n",
      "           3       0.55      0.42      0.48      3598\n",
      "           4       0.56      0.33      0.42      1014\n",
      "\n",
      "    accuracy                           0.62     16683\n",
      "   macro avg       0.56      0.44      0.48     16683\n",
      "weighted avg       0.60      0.62      0.59     16683\n",
      "\n",
      "==================================================\n"
     ]
    }
   ],
   "source": [
    "sentiment_analysis('Logistic Regression')"
   ]
  },
  {
   "cell_type": "code",
   "execution_count": 26,
   "id": "d24b464e",
   "metadata": {},
   "outputs": [
    {
     "name": "stdout",
     "output_type": "stream",
     "text": [
      "Model: Decision Tree\n",
      "Accuracy: 0.56\n",
      "\n",
      "              precision    recall  f1-score   support\n",
      "\n",
      "           0       0.36      0.30      0.33       749\n",
      "           1       0.44      0.42      0.43      2921\n",
      "           2       0.67      0.72      0.70      8401\n",
      "           3       0.47      0.43      0.45      3598\n",
      "           4       0.37      0.35      0.36      1014\n",
      "\n",
      "    accuracy                           0.56     16683\n",
      "   macro avg       0.46      0.44      0.45     16683\n",
      "weighted avg       0.56      0.56      0.56     16683\n",
      "\n",
      "==================================================\n"
     ]
    }
   ],
   "source": [
    "sentiment_analysis('Decision Tree')"
   ]
  },
  {
   "cell_type": "code",
   "execution_count": 27,
   "id": "f07bcaf6",
   "metadata": {},
   "outputs": [
    {
     "name": "stdout",
     "output_type": "stream",
     "text": [
      "Model: Naive Bayes\n",
      "Accuracy: 0.57\n",
      "\n",
      "              precision    recall  f1-score   support\n",
      "\n",
      "           0       0.37      0.20      0.26       749\n",
      "           1       0.46      0.42      0.44      2921\n",
      "           2       0.66      0.74      0.70      8401\n",
      "           3       0.48      0.50      0.49      3598\n",
      "           4       0.44      0.23      0.31      1014\n",
      "\n",
      "    accuracy                           0.57     16683\n",
      "   macro avg       0.48      0.42      0.44     16683\n",
      "weighted avg       0.56      0.57      0.56     16683\n",
      "\n",
      "==================================================\n"
     ]
    }
   ],
   "source": [
    "sentiment_analysis('Naive Bayes')"
   ]
  },
  {
   "cell_type": "code",
   "execution_count": 28,
   "id": "b6238b6c",
   "metadata": {},
   "outputs": [],
   "source": [
    "from sklearn.feature_extraction.text import TfidfVectorizer\n",
    "\n",
    "# Create a TF-IDF vectorizer\n",
    "tfidf_vectorizer = TfidfVectorizer(max_features=1000, stop_words='english')\n",
    "\n",
    "# Fit and transform the text data\n",
    "tfidf_matrix = tfidf_vectorizer.fit_transform(documents)\n",
    "\n",
    "# Convert the TF-IDF matrix to a dense matrix\n",
    "X = tfidf_matrix.toarray()\n",
    "\n",
    "# Access the feature names\n",
    "feature_names = tfidf_vectorizer.get_feature_names_out()"
   ]
  },
  {
   "cell_type": "code",
   "execution_count": 29,
   "id": "164c23bf",
   "metadata": {},
   "outputs": [],
   "source": [
    "X_train, X_test, y_train, y_test = train_test_split(X, y, test_size=0.2, random_state=42)"
   ]
  },
  {
   "cell_type": "code",
   "execution_count": 30,
   "id": "6adf12a6",
   "metadata": {},
   "outputs": [],
   "source": [
    "from sklearn.linear_model import LogisticRegression\n",
    "from sklearn.tree import DecisionTreeClassifier\n",
    "from sklearn.naive_bayes import MultinomialNB\n",
    "\n",
    "# Create and train different machine learning models\n",
    "models = {\n",
    "    \"Logistic Regression\": LogisticRegression(solver='lbfgs', max_iter=1000),\n",
    "    \"Decision Tree\": DecisionTreeClassifier(),\n",
    "    \"Naive Bayes\" : MultinomialNB()\n",
    "}\n",
    "\n",
    "def sentiment_analysis(model_name):\n",
    "    model = models[model_name]\n",
    "    model.fit(X_train, y_train)\n",
    "    y_pred = model.predict(X_test)\n",
    "    \n",
    "    # Evaluate the model\n",
    "    accuracy = accuracy_score(y_test, y_pred)\n",
    "    report = classification_report(y_test, y_pred)\n",
    "    \n",
    "    # Display results\n",
    "    print(f\"Model: {model_name}\")\n",
    "    print(f\"Accuracy: {accuracy:.2f}\\n\")\n",
    "    print(report)\n",
    "    print(\"=\" * 50)\n",
    "    return"
   ]
  },
  {
   "cell_type": "code",
   "execution_count": 31,
   "id": "34ced469",
   "metadata": {},
   "outputs": [
    {
     "name": "stdout",
     "output_type": "stream",
     "text": [
      "Model: Logistic Regression\n",
      "Accuracy: 0.58\n",
      "\n",
      "              precision    recall  f1-score   support\n",
      "\n",
      "           0       0.41      0.10      0.16       749\n",
      "           1       0.47      0.21      0.29      2921\n",
      "           2       0.61      0.88      0.72      8401\n",
      "           3       0.49      0.37      0.42      3598\n",
      "           4       0.54      0.17      0.25      1014\n",
      "\n",
      "    accuracy                           0.58     16683\n",
      "   macro avg       0.50      0.35      0.37     16683\n",
      "weighted avg       0.55      0.58      0.53     16683\n",
      "\n",
      "==================================================\n"
     ]
    }
   ],
   "source": [
    "sentiment_analysis('Logistic Regression')"
   ]
  },
  {
   "cell_type": "code",
   "execution_count": null,
   "id": "ca564689",
   "metadata": {},
   "outputs": [],
   "source": [
    "sentiment_analysis('Decision Tree')"
   ]
  },
  {
   "cell_type": "code",
   "execution_count": null,
   "id": "755cb834",
   "metadata": {},
   "outputs": [],
   "source": [
    "sentiment_analysis('Naive Bayes')"
   ]
  },
  {
   "cell_type": "code",
   "execution_count": null,
   "id": "ef430f6d",
   "metadata": {},
   "outputs": [],
   "source": []
  }
 ],
 "metadata": {
  "kernelspec": {
   "display_name": "Python 3 (ipykernel)",
   "language": "python",
   "name": "python3"
  },
  "language_info": {
   "codemirror_mode": {
    "name": "ipython",
    "version": 3
   },
   "file_extension": ".py",
   "mimetype": "text/x-python",
   "name": "python",
   "nbconvert_exporter": "python",
   "pygments_lexer": "ipython3",
   "version": "3.11.4"
  }
 },
 "nbformat": 4,
 "nbformat_minor": 5
}
